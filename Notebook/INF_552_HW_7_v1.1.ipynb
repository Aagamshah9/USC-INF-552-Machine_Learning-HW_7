{
 "cells": [
  {
   "cell_type": "markdown",
   "metadata": {},
   "source": [
    "# Name of the Student : Aagam Manish Shah"
   ]
  },
  {
   "cell_type": "markdown",
   "metadata": {},
   "source": [
    "# USC ID Number : 8791018480"
   ]
  },
  {
   "cell_type": "markdown",
   "metadata": {},
   "source": [
    "# 7.1 Generative Models for Text"
   ]
  },
  {
   "cell_type": "markdown",
   "metadata": {},
   "source": [
    "## (a) In this problem, we are trying to build a generative model to mimic the writing style of prominent British Mathematician, Philosopher, prolific writer, and political activist, Bertrand Russell."
   ]
  },
  {
   "cell_type": "code",
   "execution_count": 1,
   "metadata": {
    "colab": {},
    "colab_type": "code",
    "id": "kuMTRb3lZ5Es"
   },
   "outputs": [],
   "source": [
    "import os\n",
    "import numpy as np\n",
    "import pandas as pd\n",
    "import matplotlib.pyplot as plt\n",
    "import sklearn\n",
    "import tensorflow as tf\n",
    "from tensorflow import keras\n",
    "import copy\n",
    "import string\n",
    "\n",
    "from sklearn.preprocessing import MinMaxScaler\n",
    "import operator"
   ]
  },
  {
   "cell_type": "markdown",
   "metadata": {},
   "source": [
    "## (b) Download the following books from Project Gutenberg http://www.gutenberg.org/ebooks/author/355 in text format:\n",
    "## i. The Problems of Philosophy\n",
    "## ii. The Analysis of Mind\n",
    "## iii. Mysticism and Logic and Other Essays\n",
    "## iv. Our Knowledge of the External World as a Field for Scientific Method in Philosophy\n",
    "## Project Gutenberg adds a standard header and footer to each book and this is not part of the original text. Open the file in a text editor and delete the header and footer.\n",
    "## The header is obvious and ends with the text:\n",
    "## *** START OF THIS PROJECT GUTENBERG EBOOK AN INQUIRY INTO MEANING AND TRUTH ***\n",
    "## The footer is all of the text after the line of text that says:THE END\n",
    "## To have a better model, it is strongly recommended that you download the fol- lowing books from The Library of Congress https://archive.org and convert them to text files:\n",
    "## i. The History of Western Philosophy\n",
    "## https://archive.org/details/westernphilosophy4\n",
    "## ii. The Analysis of Matter\n",
    "## https://archive.org/details/in.ernet.dli.2015.221533\n",
    "## iii. An Inquiry into Meaning and Truth\n",
    "## https://archive.org/details/BertrandRussell-AnInquaryIntoMeaningAndTruth\n",
    "## Try to only use the text of the books and throw away unwanted text before and after the text, although in a large corpus, these are considered as noise and should not make big problems."
   ]
  },
  {
   "cell_type": "code",
   "execution_count": 2,
   "metadata": {
    "colab": {
     "base_uri": "https://localhost:8080/",
     "height": 67
    },
    "colab_type": "code",
    "id": "wGSvvRwDaCV-",
    "outputId": "3ebf58c1-4f36-4717-8309-791398dae204"
   },
   "outputs": [
    {
     "name": "stdout",
     "output_type": "stream",
     "text": [
      "tensorflow.keras version is 2.3.0-tf\n",
      "sklearn version is 0.22.2.post1\n",
      "tensorflow version is 2.2.0\n"
     ]
    }
   ],
   "source": [
    "for module in keras, sklearn, tf:\n",
    "  print(\"{} version is {}\".format(module.__name__, module.__version__))"
   ]
  },
  {
   "cell_type": "markdown",
   "metadata": {},
   "source": [
    "## (c) LSTM: Train an LSTM to mimic Russell's style and thoughts:"
   ]
  },
  {
   "cell_type": "markdown",
   "metadata": {},
   "source": [
    "### i. Concatenate your text files to create a corpus of Russell's writings."
   ]
  },
  {
   "cell_type": "code",
   "execution_count": 3,
   "metadata": {
    "colab": {},
    "colab_type": "code",
    "id": "waMPkU3SaGDA"
   },
   "outputs": [],
   "source": [
    "def generate_corpus(file_path, output_file_name = 'Corpus.txt'):\n",
    "  datafiles = os.listdir(file_path)\n",
    "  outputfile = open(output_file_name, 'w')\n",
    "  for fname in datafiles:\n",
    "        with open(fname,encoding=\"ascii\", errors='ignore') as infile:\n",
    "            for line in infile:\n",
    "                outputfile.write(line)\n",
    "  outputfile.close()\n",
    "  return outputfile.name"
   ]
  },
  {
   "cell_type": "code",
   "execution_count": 4,
   "metadata": {
    "colab": {},
    "colab_type": "code",
    "id": "thX7QoJ8aINt"
   },
   "outputs": [],
   "source": [
    "import os\n",
    "os.chdir('/Data/Book')"
   ]
  },
  {
   "cell_type": "code",
   "execution_count": 5,
   "metadata": {
    "colab": {
     "base_uri": "https://localhost:8080/",
     "height": 34
    },
    "colab_type": "code",
    "id": "c5S0kepiaKE4",
    "outputId": "103dda38-794b-47fd-b532-c47d3d8ed90d"
   },
   "outputs": [
    {
     "name": "stdout",
     "output_type": "stream",
     "text": [
      "The length of corpus of Russell's writing is:  5095252\n"
     ]
    }
   ],
   "source": [
    "outputfile = generate_corpus('/Data/Book')\n",
    "contents = open(outputfile, 'r').read()\n",
    "print(\"The length of corpus of Russell's writing is: \", len(contents))"
   ]
  },
  {
   "cell_type": "markdown",
   "metadata": {},
   "source": [
    "### ii. Use a character-level representation for this model by using extended ASCII that has N = 256 characters. Each character will be encoded into a an integer using its ASCII code. Rescale the integers to the range [0, 1], because LSTM uses a sigmoid activation function. LSTM will receive the rescaled integers as its input."
   ]
  },
  {
   "cell_type": "code",
   "execution_count": 6,
   "metadata": {
    "colab": {},
    "colab_type": "code",
    "id": "eS1Kw0bFaLu0"
   },
   "outputs": [],
   "source": [
    "def generate_char_set(orginal_text, ignore_case=False, remove_punctuation=False):\n",
    "    clipped_text = copy.copy(orginal_text)\n",
    "    char_set = set(orginal_text)\n",
    "    if ignore_case:\n",
    "        clipped_text = orginal_text.lower()\n",
    "        char_set = set(orginal_text.lower())\n",
    "    if remove_punctuation:\n",
    "        char_set = char_set.difference(set(string.punctuation))\n",
    "        clipped_text = clipped_text.translate(str.maketrans('', '', string.punctuation))\n",
    "    return clipped_text, char_set"
   ]
  },
  {
   "cell_type": "code",
   "execution_count": 7,
   "metadata": {
    "colab": {
     "base_uri": "https://localhost:8080/",
     "height": 138
    },
    "colab_type": "code",
    "id": "k2CSQey0aNpT",
    "outputId": "7412c3ac-4fe0-4197-edf5-9d5141918fcd"
   },
   "outputs": [
    {
     "name": "stdout",
     "output_type": "stream",
     "text": [
      "--------------The original dictionary of distinct characters with its ASCII values: --------------\n",
      " [('\\n', 0), (' ', 1), ('0', 2), ('1', 3), ('2', 4), ('3', 5), ('4', 6), ('5', 7), ('6', 8), ('7', 9), ('8', 10), ('9', 11), ('a', 12), ('b', 13), ('c', 14), ('d', 15), ('e', 16), ('f', 17), ('g', 18), ('h', 19), ('i', 20), ('j', 21), ('k', 22), ('l', 23), ('m', 24), ('n', 25), ('o', 26), ('p', 27), ('q', 28), ('r', 29), ('s', 30), ('t', 31), ('u', 32), ('v', 33), ('w', 34), ('x', 35), ('y', 36), ('z', 37)]\n",
      "--------------The rescaled dictionary of distinct characters with its ASCII values: --------------\n",
      " [('\\n', 0.0), (' ', 0.02702702702702703), ('0', 0.05405405405405406), ('1', 0.08108108108108109), ('2', 0.10810810810810811), ('3', 0.13513513513513514), ('4', 0.16216216216216217), ('5', 0.1891891891891892), ('6', 0.21621621621621623), ('7', 0.24324324324324326), ('8', 0.2702702702702703), ('9', 0.2972972972972973), ('a', 0.32432432432432434), ('b', 0.35135135135135137), ('c', 0.3783783783783784), ('d', 0.40540540540540543), ('e', 0.43243243243243246), ('f', 0.4594594594594595), ('g', 0.4864864864864865), ('h', 0.5135135135135136), ('i', 0.5405405405405406), ('j', 0.5675675675675675), ('k', 0.5945945945945946), ('l', 0.6216216216216217), ('m', 0.6486486486486487), ('n', 0.6756756756756757), ('o', 0.7027027027027027), ('p', 0.7297297297297298), ('q', 0.7567567567567568), ('r', 0.7837837837837838), ('s', 0.8108108108108109), ('t', 0.8378378378378379), ('u', 0.8648648648648649), ('v', 0.8918918918918919), ('w', 0.918918918918919), ('x', 0.945945945945946), ('y', 0.972972972972973), ('z', 1.0)]\n",
      "--------------The reversed dictionary of distinct characters with its ASCII values: --------------\n",
      " [(0, '\\n'), (1, ' '), (2, '0'), (3, '1'), (4, '2'), (5, '3'), (6, '4'), (7, '5'), (8, '6'), (9, '7'), (10, '8'), (11, '9'), (12, 'a'), (13, 'b'), (14, 'c'), (15, 'd'), (16, 'e'), (17, 'f'), (18, 'g'), (19, 'h'), (20, 'i'), (21, 'j'), (22, 'k'), (23, 'l'), (24, 'm'), (25, 'n'), (26, 'o'), (27, 'p'), (28, 'q'), (29, 'r'), (30, 's'), (31, 't'), (32, 'u'), (33, 'v'), (34, 'w'), (35, 'x'), (36, 'y'), (37, 'z')]\n"
     ]
    }
   ],
   "source": [
    "clipped_data, Character_set = generate_char_set(contents, ignore_case=True, remove_punctuation=True)\n",
    "char2ascii_Dict = dict()\n",
    "for index, char in enumerate(sorted(Character_set)):\n",
    "    char2ascii_Dict[char] = index\n",
    "print(\"\"\"--------------The original dictionary of distinct characters with its ASCII values: --------------\\n\"\"\", sorted(char2ascii_Dict.items(), key=operator.itemgetter(1)))\n",
    "\n",
    "rescaled_char_Dict = dict()\n",
    "rescaled_values = MinMaxScaler().fit_transform(np.array(list(char2ascii_Dict.values())).reshape(-1, 1))\n",
    "for index in range(len(rescaled_values)):\n",
    "    rescaled_char_Dict[list(char2ascii_Dict.keys())[index]] = rescaled_values[index][0]\n",
    "print(\"\"\"--------------The rescaled dictionary of distinct characters with its ASCII values: --------------\\n\"\"\", sorted(rescaled_char_Dict.items(), key=operator.itemgetter(1)))\n",
    "\n",
    "ascii2char_Dict = {v:k for k, v in char2ascii_Dict.items()}\n",
    "print(\"\"\"--------------The reversed dictionary of distinct characters with its ASCII values: --------------\\n\"\"\", sorted(ascii2char_Dict.items(), key=operator.itemgetter(1)))"
   ]
  },
  {
   "cell_type": "markdown",
   "metadata": {},
   "source": [
    "### iii. Choose a window size, e.g., W = 100."
   ]
  },
  {
   "cell_type": "markdown",
   "metadata": {},
   "source": [
    "### iv. Inputs to the network will be the first W-1 = 99 characters of each sequence, and the output of the network will be the Wth character of the sequence. Basically, we are training the network to predict each character using the 99 characters that precede it. Slide the window in strides of S = 1 on the text. For example, if W = 5 and S = 1 and we want to train the network with the sequence ABRACADABRA, The first input to the network will be ABRA and the corresponding output will be C. The second input will be BRAC and the second output will be A, etc."
   ]
  },
  {
   "cell_type": "code",
   "execution_count": 8,
   "metadata": {
    "colab": {},
    "colab_type": "code",
    "id": "cLtS1Y-EaQH7"
   },
   "outputs": [],
   "source": [
    "window_size = 99\n",
    "X_data = []\n",
    "y_data = []\n",
    "for i in range(0,len(clipped_data)-window_size,1):\n",
    "  temp = clipped_data[i:i + window_size]\n",
    "  end_char = clipped_data[i + window_size]\n",
    "  X_data.append([rescaled_char_Dict[char] for char in temp])\n",
    "  y_data.append(char2ascii_Dict[end_char])"
   ]
  },
  {
   "cell_type": "code",
   "execution_count": 9,
   "metadata": {
    "colab": {
     "base_uri": "https://localhost:8080/",
     "height": 50
    },
    "colab_type": "code",
    "id": "YEUn1K8LaSY4",
    "outputId": "d9d86fb6-2b42-4f2e-a5b4-633ed9fd3710"
   },
   "outputs": [
    {
     "name": "stdout",
     "output_type": "stream",
     "text": [
      "(4942256, 99, 1)\n",
      "(4942256, 38)\n"
     ]
    }
   ],
   "source": [
    "number_of_blocks = len(X_data)\n",
    "X_data = np.reshape(X_data, (number_of_blocks, window_size, 1))\n",
    "Y_data = keras.utils.to_categorical(y_data)\n",
    "print(X_data.shape)\n",
    "print(Y_data.shape)"
   ]
  },
  {
   "cell_type": "markdown",
   "metadata": {},
   "source": [
    "### v. Note that the output has to be encoded using a one-hot encoding scheme with N = 256 (or less) elements. This means that the network reads integers, but outputs a vector of N = 256 (or less) elements."
   ]
  },
  {
   "cell_type": "markdown",
   "metadata": {},
   "source": [
    "### vi. Use a single hidden layer for the LSTM with N = 256 (or less) memory units."
   ]
  },
  {
   "cell_type": "markdown",
   "metadata": {},
   "source": [
    "### vii. Use a Softmax output layer to yield a probability prediction for each of the characters between 0 and 1. This is actually a character classification problem with N classes. Choose log loss (cross entropy) as the objective function for the network (research what it means)."
   ]
  },
  {
   "cell_type": "code",
   "execution_count": 10,
   "metadata": {
    "colab": {
     "base_uri": "https://localhost:8080/",
     "height": 218
    },
    "colab_type": "code",
    "id": "xpG-SfR0aUUJ",
    "outputId": "32077222-59da-4feb-c94c-517c22b86b66"
   },
   "outputs": [
    {
     "name": "stdout",
     "output_type": "stream",
     "text": [
      "Model: \"sequential\"\n",
      "_________________________________________________________________\n",
      "Layer (type)                 Output Shape              Param #   \n",
      "=================================================================\n",
      "lstm (LSTM)                  (None, 256)               264192    \n",
      "_________________________________________________________________\n",
      "dense (Dense)                (None, 38)                9766      \n",
      "=================================================================\n",
      "Total params: 273,958\n",
      "Trainable params: 273,958\n",
      "Non-trainable params: 0\n",
      "_________________________________________________________________\n"
     ]
    }
   ],
   "source": [
    "memory_units = 256\n",
    "model = keras.models.Sequential([keras.layers.LSTM(units=memory_units,input_shape=(X_data.shape[1], X_data.shape[2])),\n",
    "                                 keras.layers.Dense(Y_data.shape[1], activation=\"softmax\"),])\n",
    "model.compile(loss='categorical_crossentropy', optimizer=tf.keras.optimizers.Adam(1e-4))\n",
    "model.summary()"
   ]
  },
  {
   "cell_type": "markdown",
   "metadata": {},
   "source": [
    "### viii. We do not use a test dataset. We are using the whole training dataset to learn the probability of each character in a sequence. We are not seeking for a very accurate model. Instead we are interested in a generalization of the dataset that can mimic the gist of the text."
   ]
  },
  {
   "cell_type": "markdown",
   "metadata": {},
   "source": [
    "### ix. Choose a reasonable number of epochs for training, considering your computational power (e.g., 30, although the network will need more epochs to yield a better model)."
   ]
  },
  {
   "cell_type": "code",
   "execution_count": 11,
   "metadata": {
    "colab": {
     "base_uri": "https://localhost:8080/",
     "height": 1000
    },
    "colab_type": "code",
    "id": "QQiPl38MaWb2",
    "outputId": "cb2ccc5c-305f-4d1c-d250-c0bebac04b31",
    "scrolled": false
   },
   "outputs": [
    {
     "name": "stdout",
     "output_type": "stream",
     "text": [
      "Epoch 1/30\n",
      "38611/38612 [============================>.] - ETA: 0s - loss: 2.6940WARNING:tensorflow:Early stopping conditioned on metric `val_loss` which is not available. Available metrics are: loss\n",
      "38612/38612 [==============================] - 706s 18ms/step - loss: 2.6939\n",
      "Epoch 2/30\n",
      "38609/38612 [============================>.] - ETA: 0s - loss: 2.5494WARNING:tensorflow:Early stopping conditioned on metric `val_loss` which is not available. Available metrics are: loss\n",
      "38612/38612 [==============================] - 702s 18ms/step - loss: 2.5494\n",
      "Epoch 3/30\n",
      "38611/38612 [============================>.] - ETA: 0s - loss: 2.4600WARNING:tensorflow:Early stopping conditioned on metric `val_loss` which is not available. Available metrics are: loss\n",
      "38612/38612 [==============================] - 702s 18ms/step - loss: 2.4600\n",
      "Epoch 4/30\n",
      "38612/38612 [==============================] - ETA: 0s - loss: 2.3775WARNING:tensorflow:Early stopping conditioned on metric `val_loss` which is not available. Available metrics are: loss\n",
      "38612/38612 [==============================] - 702s 18ms/step - loss: 2.3775\n",
      "Epoch 5/30\n",
      "38612/38612 [==============================] - ETA: 0s - loss: 2.2948WARNING:tensorflow:Early stopping conditioned on metric `val_loss` which is not available. Available metrics are: loss\n",
      "38612/38612 [==============================] - 702s 18ms/step - loss: 2.2948\n",
      "Epoch 6/30\n",
      "38611/38612 [============================>.] - ETA: 0s - loss: 2.2226WARNING:tensorflow:Early stopping conditioned on metric `val_loss` which is not available. Available metrics are: loss\n",
      "38612/38612 [==============================] - 704s 18ms/step - loss: 2.2226\n",
      "Epoch 7/30\n",
      "38610/38612 [============================>.] - ETA: 0s - loss: 2.1601WARNING:tensorflow:Early stopping conditioned on metric `val_loss` which is not available. Available metrics are: loss\n",
      "38612/38612 [==============================] - 709s 18ms/step - loss: 2.1601\n",
      "Epoch 8/30\n",
      "38611/38612 [============================>.] - ETA: 0s - loss: 2.1069WARNING:tensorflow:Early stopping conditioned on metric `val_loss` which is not available. Available metrics are: loss\n",
      "38612/38612 [==============================] - 711s 18ms/step - loss: 2.1069\n",
      "Epoch 9/30\n",
      "38609/38612 [============================>.] - ETA: 0s - loss: 2.0617WARNING:tensorflow:Early stopping conditioned on metric `val_loss` which is not available. Available metrics are: loss\n",
      "38612/38612 [==============================] - 711s 18ms/step - loss: 2.0617\n",
      "Epoch 10/30\n",
      "38610/38612 [============================>.] - ETA: 0s - loss: 2.0219WARNING:tensorflow:Early stopping conditioned on metric `val_loss` which is not available. Available metrics are: loss\n",
      "38612/38612 [==============================] - 711s 18ms/step - loss: 2.0219\n",
      "Epoch 11/30\n",
      "38610/38612 [============================>.] - ETA: 0s - loss: 1.9862WARNING:tensorflow:Early stopping conditioned on metric `val_loss` which is not available. Available metrics are: loss\n",
      "38612/38612 [==============================] - 711s 18ms/step - loss: 1.9862\n",
      "Epoch 12/30\n",
      "38611/38612 [============================>.] - ETA: 0s - loss: 1.9562WARNING:tensorflow:Early stopping conditioned on metric `val_loss` which is not available. Available metrics are: loss\n",
      "38612/38612 [==============================] - 712s 18ms/step - loss: 1.9562\n",
      "Epoch 13/30\n",
      "38610/38612 [============================>.] - ETA: 0s - loss: 1.9301WARNING:tensorflow:Early stopping conditioned on metric `val_loss` which is not available. Available metrics are: loss\n",
      "38612/38612 [==============================] - 713s 18ms/step - loss: 1.9301\n",
      "Epoch 14/30\n",
      "38610/38612 [============================>.] - ETA: 0s - loss: 1.9070WARNING:tensorflow:Early stopping conditioned on metric `val_loss` which is not available. Available metrics are: loss\n",
      "38612/38612 [==============================] - 716s 19ms/step - loss: 1.9070\n",
      "Epoch 15/30\n",
      "38611/38612 [============================>.] - ETA: 0s - loss: 1.8861WARNING:tensorflow:Early stopping conditioned on metric `val_loss` which is not available. Available metrics are: loss\n",
      "38612/38612 [==============================] - 711s 18ms/step - loss: 1.8861\n",
      "Epoch 16/30\n",
      "38611/38612 [============================>.] - ETA: 0s - loss: 1.8671WARNING:tensorflow:Early stopping conditioned on metric `val_loss` which is not available. Available metrics are: loss\n",
      "38612/38612 [==============================] - 715s 19ms/step - loss: 1.8671\n",
      "Epoch 17/30\n",
      "38612/38612 [==============================] - ETA: 0s - loss: 1.8496WARNING:tensorflow:Early stopping conditioned on metric `val_loss` which is not available. Available metrics are: loss\n",
      "38612/38612 [==============================] - 714s 18ms/step - loss: 1.8496\n",
      "Epoch 18/30\n",
      "38612/38612 [==============================] - ETA: 0s - loss: 1.8334WARNING:tensorflow:Early stopping conditioned on metric `val_loss` which is not available. Available metrics are: loss\n",
      "38612/38612 [==============================] - 714s 18ms/step - loss: 1.8334\n",
      "Epoch 19/30\n",
      "38609/38612 [============================>.] - ETA: 0s - loss: 1.8185WARNING:tensorflow:Early stopping conditioned on metric `val_loss` which is not available. Available metrics are: loss\n",
      "38612/38612 [==============================] - 712s 18ms/step - loss: 1.8185\n",
      "Epoch 20/30\n",
      "38609/38612 [============================>.] - ETA: 0s - loss: 1.8045WARNING:tensorflow:Early stopping conditioned on metric `val_loss` which is not available. Available metrics are: loss\n",
      "38612/38612 [==============================] - 712s 18ms/step - loss: 1.8045\n",
      "Epoch 21/30\n",
      "38611/38612 [============================>.] - ETA: 0s - loss: 1.7915WARNING:tensorflow:Early stopping conditioned on metric `val_loss` which is not available. Available metrics are: loss\n",
      "38612/38612 [==============================] - 713s 18ms/step - loss: 1.7915\n",
      "Epoch 22/30\n",
      "38612/38612 [==============================] - ETA: 0s - loss: 1.7799WARNING:tensorflow:Early stopping conditioned on metric `val_loss` which is not available. Available metrics are: loss\n",
      "38612/38612 [==============================] - 710s 18ms/step - loss: 1.7799\n",
      "Epoch 23/30\n",
      "38611/38612 [============================>.] - ETA: 0s - loss: 1.7686WARNING:tensorflow:Early stopping conditioned on metric `val_loss` which is not available. Available metrics are: loss\n",
      "38612/38612 [==============================] - 709s 18ms/step - loss: 1.7686\n",
      "Epoch 24/30\n",
      "38610/38612 [============================>.] - ETA: 0s - loss: 1.7575WARNING:tensorflow:Early stopping conditioned on metric `val_loss` which is not available. Available metrics are: loss\n",
      "38612/38612 [==============================] - 704s 18ms/step - loss: 1.7575\n",
      "Epoch 25/30\n",
      "38610/38612 [============================>.] - ETA: 0s - loss: 1.7473WARNING:tensorflow:Early stopping conditioned on metric `val_loss` which is not available. Available metrics are: loss\n",
      "38612/38612 [==============================] - 709s 18ms/step - loss: 1.7473\n",
      "Epoch 26/30\n",
      "38611/38612 [============================>.] - ETA: 0s - loss: 1.7372WARNING:tensorflow:Early stopping conditioned on metric `val_loss` which is not available. Available metrics are: loss\n",
      "38612/38612 [==============================] - 714s 18ms/step - loss: 1.7372\n",
      "Epoch 27/30\n",
      "38610/38612 [============================>.] - ETA: 0s - loss: 1.7279WARNING:tensorflow:Early stopping conditioned on metric `val_loss` which is not available. Available metrics are: loss\n",
      "38612/38612 [==============================] - 714s 18ms/step - loss: 1.7279\n",
      "Epoch 28/30\n",
      "38609/38612 [============================>.] - ETA: 0s - loss: 1.7189WARNING:tensorflow:Early stopping conditioned on metric `val_loss` which is not available. Available metrics are: loss\n",
      "38612/38612 [==============================] - 713s 18ms/step - loss: 1.7189\n",
      "Epoch 29/30\n",
      "38610/38612 [============================>.] - ETA: 0s - loss: 1.7103WARNING:tensorflow:Early stopping conditioned on metric `val_loss` which is not available. Available metrics are: loss\n",
      "38612/38612 [==============================] - 712s 18ms/step - loss: 1.7103\n",
      "Epoch 30/30\n",
      "38610/38612 [============================>.] - ETA: 0s - loss: 1.7020WARNING:tensorflow:Early stopping conditioned on metric `val_loss` which is not available. Available metrics are: loss\n",
      "38612/38612 [==============================] - 715s 19ms/step - loss: 1.7020\n"
     ]
    }
   ],
   "source": [
    "number_of_epochs = 30\n",
    "output_directory = \"./text_generation_checkpoint\"\n",
    "if not os.path.exists(output_directory):\n",
    "    os.mkdir(output_directory)\n",
    "    \n",
    "checkpoint_prefix = os.path.join(output_directory, 'ck_{epoch:02d}.hdf5')\n",
    "checkpoint_callback = keras.callbacks.ModelCheckpoint(filepath = checkpoint_prefix,monitor='loss',save_weights_only= True,mode='min')\n",
    "early_stopping = keras.callbacks.EarlyStopping(patience = 5, min_delta = 1e-4)\n",
    "history = model.fit(X_data, Y_data, epochs=number_of_epochs, batch_size=128, callbacks=[checkpoint_callback, early_stopping])"
   ]
  },
  {
   "cell_type": "markdown",
   "metadata": {},
   "source": [
    "### x. Use model checkpointing to keep the network weights to determine each time an improvement in loss is observed at the end of the epoch. Find the best set of weights in terms of loss."
   ]
  },
  {
   "cell_type": "code",
   "execution_count": 14,
   "metadata": {
    "colab": {},
    "colab_type": "code",
    "id": "le_5kKYWvfXB"
   },
   "outputs": [],
   "source": [
    "minimum_loss_checkpoint = output_directory +'/ck_30.hdf5'\n",
    "model.load_weights(minimum_loss_checkpoint)\n",
    "model.compile(loss='categorical_crossentropy', optimizer=tf.keras.optimizers.Adam(1e-4))"
   ]
  },
  {
   "cell_type": "markdown",
   "metadata": {},
   "source": [
    "### xi. Use the network with the best weights to generate 1000 characters, using the following text as initialization of the network:\n",
    "### There are those who take mental phenomena naively, just as they would physical phenomena. This school of psychologists tends not to emphasize the object."
   ]
  },
  {
   "cell_type": "code",
   "execution_count": 15,
   "metadata": {
    "colab": {},
    "colab_type": "code",
    "id": "-ox8-5hexCQb"
   },
   "outputs": [],
   "source": [
    "initial_Text = 'There are those who take mental phenomena naively, just as they would physical phenomena. This school of psychologists tends not to emphasize the object.'\n",
    "initial_Text = initial_Text.translate(str.maketrans('', '', string.punctuation))"
   ]
  },
  {
   "cell_type": "code",
   "execution_count": 18,
   "metadata": {
    "colab": {
     "base_uri": "https://localhost:8080/",
     "height": 54
    },
    "colab_type": "code",
    "id": "9jsWIhyaxzE-",
    "outputId": "1c23fa88-fa17-469d-aef2-8024f86fd90c"
   },
   "outputs": [
    {
     "name": "stdout",
     "output_type": "stream",
     "text": [
      "there are those who take mental phenomena naively just as they would physical phenomena this school of psychologists tends not to emphasize the object and the semse of the semse of the semse of the semse of the semse of the semse of the semse of the semse of the semse of the semse of the semse of the semse of the semse of the semse of the semse of the semse of the semse of the semse of the semse of the semse of the semse of the semse of the semse of the semse of the semse of the semse of the semse of the semse of the semse of the semse of the semse of the semse of the semse of the semse of the semse of the semse of the semse of the semse of the semse of the semse of the semse of the semse of the semse of the semse of the semse of the semse of the semse of the semse of the semse of the semse of the semse of the semse of the semse of the semse of the semse of the semse of the semse of the semse of the semse of the semse of the semse of the semse of the semse of the semse of the semse of the semse of the semse of the semse of the semse of the semse of the semse of the semse of the semse of the semse of the semse of the semse of the sem\n"
     ]
    }
   ],
   "source": [
    "generate_Text = copy.copy(initial_Text.lower())\n",
    "encoded_List = [rescaled_char_Dict[char] for char in generate_Text][-99:]\n",
    "for _ in range(1000):\n",
    "    text = np.reshape(encoded_List, (1, len(encoded_List), 1))\n",
    "    pred = model.predict(text)\n",
    "    char_Index = np.argmax(pred)\n",
    "    char = ascii2char_Dict[char_Index]\n",
    "    generate_Text += char\n",
    "    encoded_List.append(rescaled_char_Dict[char])\n",
    "    encoded_List = encoded_List[1:len(encoded_List)]   \n",
    "print(generate_Text)"
   ]
  }
 ],
 "metadata": {
  "accelerator": "GPU",
  "colab": {
   "collapsed_sections": [],
   "name": "INF 552_HW 7_v2.ipynb",
   "provenance": []
  },
  "kernelspec": {
   "display_name": "Python 3",
   "language": "python",
   "name": "python3"
  },
  "language_info": {
   "codemirror_mode": {
    "name": "ipython",
    "version": 3
   },
   "file_extension": ".py",
   "mimetype": "text/x-python",
   "name": "python",
   "nbconvert_exporter": "python",
   "pygments_lexer": "ipython3",
   "version": "3.7.6"
  }
 },
 "nbformat": 4,
 "nbformat_minor": 1
}